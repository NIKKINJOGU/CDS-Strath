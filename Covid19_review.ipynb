{
 "cells": [
  {
   "cell_type": "code",
   "execution_count": 1,
   "id": "47141139",
   "metadata": {},
   "outputs": [],
   "source": [
    "#import all modules\n",
    "import numpy as np\n",
    "import pandas as pd\n",
    "import matplotlib.pyplot as plt\n",
    "import seaborn as sns\n",
    "import datetime as td\n",
    "from datetime import timedelta\n",
    "\n",
    "from sklearn.linear_model import LinearRegression\n",
    "from sklearn.svm import SVR\n",
    "from sklearn.metrics import accuracy_score\n",
    "from statsmodels.tsa.api import Holt"
   ]
  },
  {
   "cell_type": "code",
   "execution_count": 2,
   "id": "96aec62b",
   "metadata": {},
   "outputs": [],
   "source": [
    "#reading the data\n",
    "covid = pd.read_csv('C:/Users/hp/Desktop/DATA SCIENCE/STRATH/FINAL PROJECT/DATA/covid_19_data.csv')"
   ]
  },
  {
   "cell_type": "code",
   "execution_count": 3,
   "id": "d2c9179b",
   "metadata": {},
   "outputs": [
    {
     "data": {
      "text/html": [
       "<div>\n",
       "<style scoped>\n",
       "    .dataframe tbody tr th:only-of-type {\n",
       "        vertical-align: middle;\n",
       "    }\n",
       "\n",
       "    .dataframe tbody tr th {\n",
       "        vertical-align: top;\n",
       "    }\n",
       "\n",
       "    .dataframe thead th {\n",
       "        text-align: right;\n",
       "    }\n",
       "</style>\n",
       "<table border=\"1\" class=\"dataframe\">\n",
       "  <thead>\n",
       "    <tr style=\"text-align: right;\">\n",
       "      <th></th>\n",
       "      <th>SNo</th>\n",
       "      <th>ObservationDate</th>\n",
       "      <th>Province/State</th>\n",
       "      <th>Country/Region</th>\n",
       "      <th>Last Update</th>\n",
       "      <th>Confirmed</th>\n",
       "      <th>Deaths</th>\n",
       "      <th>Recovered</th>\n",
       "    </tr>\n",
       "  </thead>\n",
       "  <tbody>\n",
       "    <tr>\n",
       "      <th>0</th>\n",
       "      <td>1</td>\n",
       "      <td>1/22/2020</td>\n",
       "      <td>Anhui</td>\n",
       "      <td>Mainland China</td>\n",
       "      <td>1/22/2020 17:00</td>\n",
       "      <td>1</td>\n",
       "      <td>0</td>\n",
       "      <td>0</td>\n",
       "    </tr>\n",
       "    <tr>\n",
       "      <th>1</th>\n",
       "      <td>2</td>\n",
       "      <td>1/22/2020</td>\n",
       "      <td>Beijing</td>\n",
       "      <td>Mainland China</td>\n",
       "      <td>1/22/2020 17:00</td>\n",
       "      <td>14</td>\n",
       "      <td>0</td>\n",
       "      <td>0</td>\n",
       "    </tr>\n",
       "    <tr>\n",
       "      <th>2</th>\n",
       "      <td>3</td>\n",
       "      <td>1/22/2020</td>\n",
       "      <td>Chongqing</td>\n",
       "      <td>Mainland China</td>\n",
       "      <td>1/22/2020 17:00</td>\n",
       "      <td>6</td>\n",
       "      <td>0</td>\n",
       "      <td>0</td>\n",
       "    </tr>\n",
       "  </tbody>\n",
       "</table>\n",
       "</div>"
      ],
      "text/plain": [
       "   SNo ObservationDate Province/State  Country/Region      Last Update  \\\n",
       "0    1       1/22/2020          Anhui  Mainland China  1/22/2020 17:00   \n",
       "1    2       1/22/2020        Beijing  Mainland China  1/22/2020 17:00   \n",
       "2    3       1/22/2020      Chongqing  Mainland China  1/22/2020 17:00   \n",
       "\n",
       "   Confirmed  Deaths  Recovered  \n",
       "0          1       0          0  \n",
       "1         14       0          0  \n",
       "2          6       0          0  "
      ]
     },
     "execution_count": 3,
     "metadata": {},
     "output_type": "execute_result"
    }
   ],
   "source": [
    "covid.head(3)"
   ]
  },
  {
   "cell_type": "code",
   "execution_count": 4,
   "id": "86b58842",
   "metadata": {},
   "outputs": [
    {
     "data": {
      "text/html": [
       "<div>\n",
       "<style scoped>\n",
       "    .dataframe tbody tr th:only-of-type {\n",
       "        vertical-align: middle;\n",
       "    }\n",
       "\n",
       "    .dataframe tbody tr th {\n",
       "        vertical-align: top;\n",
       "    }\n",
       "\n",
       "    .dataframe thead th {\n",
       "        text-align: right;\n",
       "    }\n",
       "</style>\n",
       "<table border=\"1\" class=\"dataframe\">\n",
       "  <thead>\n",
       "    <tr style=\"text-align: right;\">\n",
       "      <th></th>\n",
       "      <th>SNo</th>\n",
       "      <th>Confirmed</th>\n",
       "      <th>Deaths</th>\n",
       "      <th>Recovered</th>\n",
       "    </tr>\n",
       "  </thead>\n",
       "  <tbody>\n",
       "    <tr>\n",
       "      <th>count</th>\n",
       "      <td>18327.000000</td>\n",
       "      <td>18327.000000</td>\n",
       "      <td>18327.000000</td>\n",
       "      <td>18327.000000</td>\n",
       "    </tr>\n",
       "    <tr>\n",
       "      <th>mean</th>\n",
       "      <td>9164.000000</td>\n",
       "      <td>3030.015551</td>\n",
       "      <td>180.680417</td>\n",
       "      <td>764.542424</td>\n",
       "    </tr>\n",
       "    <tr>\n",
       "      <th>std</th>\n",
       "      <td>5290.693527</td>\n",
       "      <td>15129.079515</td>\n",
       "      <td>1362.099905</td>\n",
       "      <td>5618.658958</td>\n",
       "    </tr>\n",
       "    <tr>\n",
       "      <th>min</th>\n",
       "      <td>1.000000</td>\n",
       "      <td>0.000000</td>\n",
       "      <td>0.000000</td>\n",
       "      <td>0.000000</td>\n",
       "    </tr>\n",
       "    <tr>\n",
       "      <th>25%</th>\n",
       "      <td>4582.500000</td>\n",
       "      <td>9.000000</td>\n",
       "      <td>0.000000</td>\n",
       "      <td>0.000000</td>\n",
       "    </tr>\n",
       "    <tr>\n",
       "      <th>50%</th>\n",
       "      <td>9164.000000</td>\n",
       "      <td>101.000000</td>\n",
       "      <td>1.000000</td>\n",
       "      <td>2.000000</td>\n",
       "    </tr>\n",
       "    <tr>\n",
       "      <th>75%</th>\n",
       "      <td>13745.500000</td>\n",
       "      <td>674.500000</td>\n",
       "      <td>8.000000</td>\n",
       "      <td>71.000000</td>\n",
       "    </tr>\n",
       "    <tr>\n",
       "      <th>max</th>\n",
       "      <td>18327.000000</td>\n",
       "      <td>271590.000000</td>\n",
       "      <td>25969.000000</td>\n",
       "      <td>109800.000000</td>\n",
       "    </tr>\n",
       "  </tbody>\n",
       "</table>\n",
       "</div>"
      ],
      "text/plain": [
       "                SNo      Confirmed        Deaths      Recovered\n",
       "count  18327.000000   18327.000000  18327.000000   18327.000000\n",
       "mean    9164.000000    3030.015551    180.680417     764.542424\n",
       "std     5290.693527   15129.079515   1362.099905    5618.658958\n",
       "min        1.000000       0.000000      0.000000       0.000000\n",
       "25%     4582.500000       9.000000      0.000000       0.000000\n",
       "50%     9164.000000     101.000000      1.000000       2.000000\n",
       "75%    13745.500000     674.500000      8.000000      71.000000\n",
       "max    18327.000000  271590.000000  25969.000000  109800.000000"
      ]
     },
     "execution_count": 4,
     "metadata": {},
     "output_type": "execute_result"
    }
   ],
   "source": [
    "#descriptive statistics\n",
    "covid.describe()"
   ]
  },
  {
   "cell_type": "code",
   "execution_count": 5,
   "id": "5df5229f",
   "metadata": {},
   "outputs": [
    {
     "data": {
      "text/plain": [
       "(18327, 8)"
      ]
     },
     "execution_count": 5,
     "metadata": {},
     "output_type": "execute_result"
    }
   ],
   "source": [
    "covid.shape"
   ]
  },
  {
   "cell_type": "code",
   "execution_count": 6,
   "id": "3d5affc2",
   "metadata": {},
   "outputs": [
    {
     "data": {
      "text/plain": [
       "SNo                   0\n",
       "ObservationDate       0\n",
       "Province/State     9277\n",
       "Country/Region        0\n",
       "Last Update           0\n",
       "Confirmed             0\n",
       "Deaths                0\n",
       "Recovered             0\n",
       "dtype: int64"
      ]
     },
     "execution_count": 6,
     "metadata": {},
     "output_type": "execute_result"
    }
   ],
   "source": [
    "covid.isnull().sum()"
   ]
  },
  {
   "cell_type": "code",
   "execution_count": 7,
   "id": "0f195c14",
   "metadata": {},
   "outputs": [],
   "source": [
    "covid.drop('SNo',axis=1,inplace=True)"
   ]
  },
  {
   "cell_type": "code",
   "execution_count": 8,
   "id": "a841a140",
   "metadata": {},
   "outputs": [],
   "source": [
    "#convert observation date to datetime format\n",
    "covid['ObservationDate'] = pd.to_datetime(covid['ObservationDate'])\n",
    "#group cases per the date\n",
    "by_date = covid.groupby(['ObservationDate']).agg({'Confirmed':'sum','Recovered':'sum','Deaths':'sum'})"
   ]
  },
  {
   "cell_type": "code",
   "execution_count": 9,
   "id": "c0b22300",
   "metadata": {},
   "outputs": [
    {
     "name": "stdout",
     "output_type": "stream",
     "text": [
      "Confirmed cases: 2811193\n",
      "Recovered cases: 793601\n",
      "Deaths: 197159\n",
      "Active cases: 1820433\n"
     ]
    }
   ],
   "source": [
    "#see the number of each case\n",
    "confirmed = by_date['Confirmed'].iloc[-1]\n",
    "recovered = by_date['Recovered'].iloc[-1]\n",
    "deaths = by_date['Deaths'].iloc[-1]\n",
    "active = by_date['Confirmed'].iloc[-1]-by_date['Recovered'].iloc[-1]-by_date['Deaths'].iloc[-1]\n",
    "\n",
    "print('Confirmed cases:',confirmed)\n",
    "print('Recovered cases:',recovered)\n",
    "print('Deaths:',deaths)\n",
    "print('Active cases:',active)"
   ]
  },
  {
   "cell_type": "markdown",
   "id": "dd3022b2",
   "metadata": {},
   "source": [
    "VISUALISATIONS"
   ]
  },
  {
   "cell_type": "code",
   "execution_count": 12,
   "id": "ac1b3b3f",
   "metadata": {},
   "outputs": [
    {
     "data": {
      "image/png": "[encoded data removed]",
      "text/plain": [
       "<Figure size 1440x576 with 1 Axes>"
      ]
     },
     "metadata": {
      "needs_background": "light"
     },
     "output_type": "display_data"
    }
   ],
   "source": [
    "#confirmed cases\n",
    "plt.figure(figsize=(20,8))\n",
    "sns.barplot(x=by_date.index.date, y=by_date['Confirmed'])\n",
    "plt.title('Confirmed Cases')\n",
    "plt.xticks(rotation = 90)\n",
    "\n",
    "plt.show()"
   ]
  },
  {
   "cell_type": "code",
   "execution_count": 13,
   "id": "409613b4",
   "metadata": {},
   "outputs": [
    {
     "data": {
      "image/png": "[encoded data removed]",
      "text/plain": [
       "<Figure size 1080x360 with 1 Axes>"
      ]
     },
     "metadata": {
      "needs_background": "light"
     },
     "output_type": "display_data"
    }
   ],
   "source": [
    "#Active cases\n",
    "plt.figure(figsize=(15,5))\n",
    "sns.barplot(x=by_date.index.date, y=by_date['Confirmed']-by_date['Recovered']-by_date['Deaths'])\n",
    "plt.title('Active Cases')\n",
    "plt.xticks(rotation=90)\n",
    "\n",
    "plt.show()"
   ]
  },
  {
   "cell_type": "code",
   "execution_count": 14,
   "id": "37c6cd1d",
   "metadata": {},
   "outputs": [
    {
     "data": {
      "image/png": "[encoded data removed]",
      "text/plain": [
       "<Figure size 1440x576 with 1 Axes>"
      ]
     },
     "metadata": {
      "needs_background": "light"
     },
     "output_type": "display_data"
    }
   ],
   "source": [
    "#Death cases\n",
    "plt.figure(figsize=(20,8))\n",
    "sns.barplot(x=by_date.index.date, y=by_date['Confirmed'])\n",
    "plt.title('Deaths')\n",
    "plt.xticks(rotation = 90)\n",
    "\n",
    "plt.show()"
   ]
  },
  {
   "cell_type": "code",
   "execution_count": 15,
   "id": "3dd47c7f",
   "metadata": {},
   "outputs": [
    {
     "name": "stderr",
     "output_type": "stream",
     "text": [
      "C:\\Users\\hp\\AppData\\Local\\Temp\\ipykernel_11200\\3365537095.py:2: FutureWarning: weekofyear and week have been deprecated, please use DatetimeIndex.isocalendar().week instead, which returns a Series. To exactly reproduce the behavior of week and weekofyear and return an Index, you may call pd.Int64Index(idx.isocalendar().week)\n",
      "  by_date['WeekofYear'] = by_date.index.weekofyear\n",
      "No artists with labels found to put in legend.  Note that artists whose label start with an underscore are ignored when legend() is called with no argument.\n"
     ]
    },
    {
     "data": {
      "image/png": "[encoded data removed]",
      "text/plain": [
       "<Figure size 576x360 with 1 Axes>"
      ]
     },
     "metadata": {
      "needs_background": "light"
     },
     "output_type": "display_data"
    }
   ],
   "source": [
    "#Weekly Progress of cases\n",
    "by_date['WeekofYear'] = by_date.index.weekofyear\n",
    "week_num = []\n",
    "weekly_confirmed = []\n",
    "weekly_recovered = []\n",
    "weekly_deaths = []\n",
    "weekly_active = []\n",
    "w = 1\n",
    "for i in list(by_date['WeekofYear'].unique()):\n",
    "    weekly_confirmed.append(by_date[by_date['WeekofYear']==i]['Confirmed'].iloc[-1])\n",
    "    weekly_recovered.append(by_date[by_date['WeekofYear']==i]['Recovered'].iloc[-1])\n",
    "    weekly_deaths.append(by_date[by_date['WeekofYear']==i]['Deaths'].iloc[-1])\n",
    "    weekly_active.append(by_date[by_date['WeekofYear']==i]['Confirmed'].iloc[-1]-by_date[by_date['WeekofYear']==i]['Recovered'].iloc[-1]-by_date[by_date['WeekofYear']==i]['Deaths'].iloc[-1])\n",
    "    week_num.append(w)\n",
    "    w=w+1\n",
    "plt.figure(figsize=(8,5))\n",
    "plt.plot(week_num,weekly_confirmed,linewidth=3,color='red')\n",
    "plt.plot(week_num,weekly_recovered,linewidth=3,color='blue')\n",
    "plt.plot(week_num,weekly_deaths,linewidth=3,color='green')\n",
    "plt.plot(week_num,weekly_active,linewidth=3,color='yellow')\n",
    "\n",
    "\n",
    "plt.xlabel('Week number')\n",
    "plt.ylabel('No. of cases')\n",
    "plt.title('Weekly Progress of Cases')\n",
    "plt.legend()\n",
    "\n",
    "plt.show()"
   ]
  },
  {
   "cell_type": "code",
   "execution_count": 16,
   "id": "ee4cc2f7",
   "metadata": {},
   "outputs": [
    {
     "data": {
      "text/plain": [
       "Text(0.5, 1.0, 'Weekly Increase in Number of Death Cases')"
      ]
     },
     "execution_count": 16,
     "metadata": {},
     "output_type": "execute_result"
    },
    {
     "data": {
      "image/png": "[encoded data removed]",
      "text/plain": [
       "<Figure size 864x288 with 2 Axes>"
      ]
     },
     "metadata": {
      "needs_background": "light"
     },
     "output_type": "display_data"
    }
   ],
   "source": [
    "#Weekly increase in cases\n",
    "fig,(ax1,ax2) = plt.subplots(1,2,figsize=(12,4))\n",
    "sns.barplot(x=week_num,y=pd.Series(weekly_confirmed).diff().fillna(0),ax=ax1)\n",
    "sns.barplot(x=week_num,y=pd.Series(weekly_deaths).diff().fillna(0),ax=ax2)\n",
    "ax1.set_xlabel('Week number')\n",
    "ax2.set_xlabel('Week number')\n",
    "ax1.set_ylabel('No. of confirmed cases')\n",
    "ax2.set_ylabel('No. of confirmed cases')\n",
    "ax1.set_title('Weekly Increase in Number of Confirmed Cases')\n",
    "ax2.set_title('Weekly Increase in Number of Death Cases')"
   ]
  },
  {
   "cell_type": "code",
   "execution_count": 17,
   "id": "598efc08",
   "metadata": {},
   "outputs": [],
   "source": [
    "#average increase in number of confirmed cases everyday\n",
    "c = by_date['Confirmed'].diff().fillna(0)\n",
    "avg_confirmed = np.round(c.mean())\n",
    "\n",
    "#average increase in number of recovered cases everyday\n",
    "r = by_date['Recovered'].diff().fillna(0)\n",
    "avg_recovered = np.round(r.mean())\n",
    "\n",
    "#average increase in number of deaths everyday\n",
    "d = by_date['Deaths'].diff().fillna(0)\n",
    "avg_deaths = np.round(d.mean())\n",
    " "
   ]
  },
  {
   "cell_type": "code",
   "execution_count": 18,
   "id": "a8cf19d4",
   "metadata": {},
   "outputs": [
    {
     "data": {
      "image/png": "[encoded data removed]",
      "text/plain": [
       "<Figure size 720x432 with 1 Axes>"
      ]
     },
     "metadata": {
      "needs_background": "light"
     },
     "output_type": "display_data"
    }
   ],
   "source": [
    "plt.figure(figsize=(10,6))\n",
    "plt.plot(c,label='Daily Increase in Confirmed Cases',linewidth=2)\n",
    "plt.plot(r,label='Daily Increase in Recovered Cases',linewidth=2)\n",
    "plt.plot(d,label='Daily Increase in Death Cases',linewidth=2)\n",
    "plt.ylabel('Daily Increase')\n",
    "plt.xlabel('Day')\n",
    "plt.title('Daily Increase')\n",
    "\n",
    "plt.legend()\n",
    "plt.xticks(rotation = 90)\n",
    "plt.show()"
   ]
  },
  {
   "cell_type": "code",
   "execution_count": 19,
   "id": "33237d0d",
   "metadata": {},
   "outputs": [],
   "source": [
    "# Analysis per country\n",
    "country = covid[covid['ObservationDate']==covid['ObservationDate'].max()].groupby('Country/Region').agg({'Confirmed':'sum','Recovered':'sum','Deaths':'sum'}).sort_values(['Confirmed'],ascending=False)"
   ]
  },
  {
   "cell_type": "code",
   "execution_count": 20,
   "id": "6d455b0b",
   "metadata": {},
   "outputs": [
    {
     "data": {
      "image/png": "[encoded data removed]",
      "text/plain": [
       "<Figure size 1440x720 with 2 Axes>"
      ]
     },
     "metadata": {
      "needs_background": "light"
     },
     "output_type": "display_data"
    }
   ],
   "source": [
    "#top 10 countries\n",
    "fig,(ax1,ax2) = plt.subplots(1,2,figsize=(20,10))\n",
    "top10_confirmed = country.sort_values(['Confirmed'],ascending=False).head(10)\n",
    "top10_deaths = country.sort_values(['Deaths'],ascending=False).head(10)\n",
    "\n",
    "sns.barplot(x=top10_confirmed['Confirmed'], y=top10_confirmed.index,ax=ax1)\n",
    "ax1.set_title('Top 10 Countries')\n",
    "\n",
    "sns.barplot(x=top10_confirmed['Deaths'], y=top10_deaths.index,ax=ax2)\n",
    "ax2.set_title('Top 10 Countries')\n",
    "\n",
    "plt.show()"
   ]
  },
  {
   "cell_type": "markdown",
   "id": "ccab1bee",
   "metadata": {},
   "source": [
    "FITTING AND PREDICTION"
   ]
  },
  {
   "cell_type": "code",
   "execution_count": 21,
   "id": "e183ae03",
   "metadata": {},
   "outputs": [],
   "source": [
    "#Append days column\n",
    "#subtract first day to change to days\n",
    "by_date['Days']=by_date.index-by_date.index[0]\n",
    "\n",
    "#convert to days\n",
    "by_date['Days']=by_date['Days'].dt.days\n"
   ]
  },
  {
   "cell_type": "code",
   "execution_count": 22,
   "id": "1b9d989a",
   "metadata": {},
   "outputs": [],
   "source": [
    "#split the data\n",
    "#training data:25%\n",
    "train = by_date.iloc[:int(by_date.shape[0]*0.70)]\n",
    "#test data:75%\n",
    "test = by_date.iloc[:int(by_date.shape[0]*0.30)]\n",
    "\n",
    "X_train = np.array(train['Days']).reshape(-1,1)\n",
    "Y_train= np.array(train['Confirmed']).reshape(-1,1)\n",
    "\n",
    "X_test = np.array(test['Days']).reshape(-1,1)\n",
    "Y_test = np.array(test['Days']).reshape(-1,1)"
   ]
  },
  {
   "cell_type": "code",
   "execution_count": 23,
   "id": "2292a1c6",
   "metadata": {},
   "outputs": [
    {
     "data": {
      "text/plain": [
       "(65, 1)"
      ]
     },
     "execution_count": 23,
     "metadata": {},
     "output_type": "execute_result"
    }
   ],
   "source": [
    "Y_train.shape"
   ]
  },
  {
   "cell_type": "code",
   "execution_count": 24,
   "id": "1792203f",
   "metadata": {},
   "outputs": [],
   "source": [
    "#LINEAR REGRESSION\n",
    "#fitting\n",
    "reg = LinearRegression()\n",
    "reg.fit(X_train,Y_train)\n",
    "\n",
    "reg_pred = reg.predict(np.array(train['Days'].max()+i).reshape(-1,1))"
   ]
  },
  {
   "cell_type": "code",
   "execution_count": 25,
   "id": "d36be110",
   "metadata": {},
   "outputs": [
    {
     "name": "stderr",
     "output_type": "stream",
     "text": [
      "C:\\Users\\hp\\anaconda3\\lib\\site-packages\\sklearn\\utils\\validation.py:993: DataConversionWarning: A column-vector y was passed when a 1d array was expected. Please change the shape of y to (n_samples, ), for example using ravel().\n",
      "  y = column_or_1d(y, warn=True)\n"
     ]
    }
   ],
   "source": [
    "#Support Vector Regression\n",
    "svm = SVR()\n",
    "svm.fit(X_train,Y_train) \n",
    "\n",
    "svm_pred = svm.predict(np.array(train['Days'].max()+i).reshape(-1,1))"
   ]
  },
  {
   "cell_type": "code",
   "execution_count": 26,
   "id": "6ba5ae95",
   "metadata": {},
   "outputs": [
    {
     "data": {
      "text/plain": [
       "\"new_date = []\\nnew_reg_pred = []\\nnew_svm_pred = []\\nfor i in range(1,18):\\n    new_date.append(case_date.index[-1]+timedelta(days=i))\\n    new_reg_pred.append(reg.predict(np.array(train['Days'].max()+i).reshape(-1,1))[0][0])\\n    new_svm_pred.append(svm.predict(np.array(train['Days'].max()+i).reshape(-1,1))[0])\\npd.set_option('display.float_format',lambda x:'%.f'%x)\\npredictions=pd.DataFrame(zip(new_date,new_reg_pred,new_svm_pred),columns = ['Dates','Linear Regression','SVR'])\\npredictions.head()\""
      ]
     },
     "execution_count": 26,
     "metadata": {},
     "output_type": "execute_result"
    }
   ],
   "source": [
    "'''new_date = []\n",
    "new_reg_pred = []\n",
    "new_svm_pred = []\n",
    "for i in range(1,18):\n",
    "    new_date.append(case_date.index[-1]+timedelta(days=i))\n",
    "    new_reg_pred.append(reg.predict(np.array(train['Days'].max()+i).reshape(-1,1))[0][0])\n",
    "    new_svm_pred.append(svm.predict(np.array(train['Days'].max()+i).reshape(-1,1))[0])\n",
    "pd.set_option('display.float_format',lambda x:'%.f'%x)\n",
    "predictions=pd.DataFrame(zip(new_date,new_reg_pred,new_svm_pred),columns = ['Dates','Linear Regression','SVR'])\n",
    "predictions.head()'''"
   ]
  },
  {
   "cell_type": "code",
   "execution_count": 31,
   "id": "68c8dccb",
   "metadata": {},
   "outputs": [],
   "source": [
    "start_date = by_date.index[0]\n",
    "new_date = []\n",
    "new_reg_pred = []\n",
    "new_svm_pred = []\n",
    "for i in range(0,65):\n",
    "    new_date.append(start_date+timedelta(days=i))\n",
    "    new_reg_pred.append(reg.predict(np.array(train['Days'].max()+i).reshape(-1,1))[0][0])\n",
    "    new_svm_pred.append(svm.predict(np.array(train['Days'].max()+i).reshape(-1,1))[0])\n",
    "pd.set_option('display.float_format',lambda x:'%.f'%x)\n",
    "predictions=pd.DataFrame(zip(new_date,new_reg_pred,new_svm_pred),columns = ['Dates','Linear Regression','SVR'])\n"
   ]
  },
  {
   "cell_type": "code",
   "execution_count": 32,
   "id": "b8a78fb0",
   "metadata": {},
   "outputs": [],
   "source": [
    "Y_pred = predictions['Linear Regression']"
   ]
  },
  {
   "cell_type": "code",
   "execution_count": 33,
   "id": "e33b2928",
   "metadata": {},
   "outputs": [
    {
     "data": {
      "text/plain": [
       "(65,)"
      ]
     },
     "execution_count": 33,
     "metadata": {},
     "output_type": "execute_result"
    }
   ],
   "source": [
    "Y_pred.shape"
   ]
  },
  {
   "cell_type": "markdown",
   "id": "6cd2e6f9",
   "metadata": {},
   "source": [
    " R2 Score, MSE (Mean Squared Error), RMSE (Root Mean Squared Error"
   ]
  },
  {
   "cell_type": "code",
   "execution_count": 34,
   "id": "28bba44f",
   "metadata": {},
   "outputs": [
    {
     "data": {
      "text/plain": [
       "109946466626.86629"
      ]
     },
     "execution_count": 34,
     "metadata": {},
     "output_type": "execute_result"
    }
   ],
   "source": [
    "from sklearn.metrics import mean_squared_error\n",
    "mean_squared_error(Y_train, Y_pred)"
   ]
  },
  {
   "cell_type": "code",
   "execution_count": 35,
   "id": "f07bb89f",
   "metadata": {},
   "outputs": [
    {
     "data": {
      "text/plain": [
       "-7.458040957876127"
      ]
     },
     "execution_count": 35,
     "metadata": {},
     "output_type": "execute_result"
    }
   ],
   "source": [
    "from sklearn.metrics import r2_score\n",
    "r2_score(Y_train, Y_pred)"
   ]
  },
  {
   "cell_type": "code",
   "execution_count": 36,
   "id": "a4bf3c82",
   "metadata": {},
   "outputs": [
    {
     "data": {
      "text/plain": [
       "<AxesSubplot:xlabel='Confirmed'>"
      ]
     },
     "execution_count": 36,
     "metadata": {},
     "output_type": "execute_result"
    },
    {
     "data": {
      "image/png": "[encoded data removed]",
      "text/plain": [
       "<Figure size 432x288 with 1 Axes>"
      ]
     },
     "metadata": {
      "needs_background": "light"
     },
     "output_type": "display_data"
    }
   ],
   "source": [
    "sns.boxplot(x=by_date[\"Confirmed\"])"
   ]
  },
  {
   "cell_type": "code",
   "execution_count": 37,
   "id": "803e5ab1",
   "metadata": {},
   "outputs": [
    {
     "name": "stdout",
     "output_type": "stream",
     "text": [
      "Upper whisker:  2183428.875\n",
      "Lower Whisker:  -1202180.125\n"
     ]
    }
   ],
   "source": [
    "#Using our boxplot, see the lower/upper quartile limits \n",
    "\n",
    "def outliers(by_date, feature):\n",
    "    Q1= by_date[feature].quantile(0.25)\n",
    "    Q3 = by_date[feature].quantile(0.75)\n",
    "    IQR = Q3 - Q1\n",
    "    upper_limit = Q3 + 1.5 * IQR\n",
    "    lower_limit = Q1 - 1.5 * IQR\n",
    "    return upper_limit, lower_limit\n",
    "upper, lower = outliers(by_date, \"Confirmed\")\n",
    "print(\"Upper whisker: \", upper)\n",
    "print(\"Lower Whisker: \", lower)"
   ]
  },
  {
   "cell_type": "code",
   "execution_count": 38,
   "id": "f261cd39",
   "metadata": {},
   "outputs": [
    {
     "data": {
      "text/html": [
       "<div>\n",
       "<style scoped>\n",
       "    .dataframe tbody tr th:only-of-type {\n",
       "        vertical-align: middle;\n",
       "    }\n",
       "\n",
       "    .dataframe tbody tr th {\n",
       "        vertical-align: top;\n",
       "    }\n",
       "\n",
       "    .dataframe thead th {\n",
       "        text-align: right;\n",
       "    }\n",
       "</style>\n",
       "<table border=\"1\" class=\"dataframe\">\n",
       "  <thead>\n",
       "    <tr style=\"text-align: right;\">\n",
       "      <th></th>\n",
       "      <th>Confirmed</th>\n",
       "      <th>Recovered</th>\n",
       "      <th>Deaths</th>\n",
       "      <th>WeekofYear</th>\n",
       "      <th>Days</th>\n",
       "    </tr>\n",
       "    <tr>\n",
       "      <th>ObservationDate</th>\n",
       "      <th></th>\n",
       "      <th></th>\n",
       "      <th></th>\n",
       "      <th></th>\n",
       "      <th></th>\n",
       "    </tr>\n",
       "  </thead>\n",
       "  <tbody>\n",
       "    <tr>\n",
       "      <th>2020-04-17</th>\n",
       "      <td>2240191</td>\n",
       "      <td>568343</td>\n",
       "      <td>153822</td>\n",
       "      <td>16</td>\n",
       "      <td>86</td>\n",
       "    </tr>\n",
       "    <tr>\n",
       "      <th>2020-04-18</th>\n",
       "      <td>2317759</td>\n",
       "      <td>592319</td>\n",
       "      <td>159510</td>\n",
       "      <td>16</td>\n",
       "      <td>87</td>\n",
       "    </tr>\n",
       "    <tr>\n",
       "      <th>2020-04-19</th>\n",
       "      <td>2401379</td>\n",
       "      <td>623903</td>\n",
       "      <td>165044</td>\n",
       "      <td>16</td>\n",
       "      <td>88</td>\n",
       "    </tr>\n",
       "    <tr>\n",
       "      <th>2020-04-20</th>\n",
       "      <td>2472259</td>\n",
       "      <td>645738</td>\n",
       "      <td>169986</td>\n",
       "      <td>17</td>\n",
       "      <td>89</td>\n",
       "    </tr>\n",
       "    <tr>\n",
       "      <th>2020-04-21</th>\n",
       "      <td>2549123</td>\n",
       "      <td>679819</td>\n",
       "      <td>176583</td>\n",
       "      <td>17</td>\n",
       "      <td>90</td>\n",
       "    </tr>\n",
       "    <tr>\n",
       "      <th>2020-04-22</th>\n",
       "      <td>2623960</td>\n",
       "      <td>709694</td>\n",
       "      <td>183066</td>\n",
       "      <td>17</td>\n",
       "      <td>91</td>\n",
       "    </tr>\n",
       "    <tr>\n",
       "      <th>2020-04-23</th>\n",
       "      <td>2708885</td>\n",
       "      <td>738486</td>\n",
       "      <td>190858</td>\n",
       "      <td>17</td>\n",
       "      <td>92</td>\n",
       "    </tr>\n",
       "    <tr>\n",
       "      <th>2020-04-24</th>\n",
       "      <td>2811193</td>\n",
       "      <td>793601</td>\n",
       "      <td>197159</td>\n",
       "      <td>17</td>\n",
       "      <td>93</td>\n",
       "    </tr>\n",
       "  </tbody>\n",
       "</table>\n",
       "</div>"
      ],
      "text/plain": [
       "                 Confirmed  Recovered  Deaths  WeekofYear  Days\n",
       "ObservationDate                                                \n",
       "2020-04-17         2240191     568343  153822          16    86\n",
       "2020-04-18         2317759     592319  159510          16    87\n",
       "2020-04-19         2401379     623903  165044          16    88\n",
       "2020-04-20         2472259     645738  169986          17    89\n",
       "2020-04-21         2549123     679819  176583          17    90\n",
       "2020-04-22         2623960     709694  183066          17    91\n",
       "2020-04-23         2708885     738486  190858          17    92\n",
       "2020-04-24         2811193     793601  197159          17    93"
      ]
     },
     "execution_count": 38,
     "metadata": {},
     "output_type": "execute_result"
    }
   ],
   "source": [
    "#The outliers are:\n",
    "by_date[(by_date['Confirmed'] < lower) | (by_date['Confirmed'] > upper)]"
   ]
  },
  {
   "cell_type": "code",
   "execution_count": 39,
   "id": "971d5384",
   "metadata": {},
   "outputs": [],
   "source": [
    "#Remove outliers\n",
    "by_date=by_date[(by_date['Confirmed']>lower)&(by_date['Confirmed']<upper)]"
   ]
  },
  {
   "cell_type": "code",
   "execution_count": 40,
   "id": "d990040a",
   "metadata": {},
   "outputs": [
    {
     "data": {
      "text/plain": [
       "(86, 5)"
      ]
     },
     "execution_count": 40,
     "metadata": {},
     "output_type": "execute_result"
    }
   ],
   "source": [
    "by_date.shape"
   ]
  },
  {
   "cell_type": "markdown",
   "id": "997833d6",
   "metadata": {},
   "source": [
    "RE-FITTING AFTER REMOVING OUTLIERS"
   ]
  },
  {
   "cell_type": "code",
   "execution_count": 41,
   "id": "506dc762",
   "metadata": {},
   "outputs": [],
   "source": [
    "#Append days column\n",
    "#subtract first day to change to days\n",
    "by_date['Days']=by_date.index-by_date.index[0]\n",
    "\n",
    "#convert to days\n",
    "by_date['Days']=by_date['Days'].dt.days"
   ]
  },
  {
   "cell_type": "code",
   "execution_count": 43,
   "id": "d44a934d",
   "metadata": {},
   "outputs": [],
   "source": [
    "#split the data\n",
    "#training data:25%\n",
    "train = by_date.iloc[:int(by_date.shape[0]*0.80)]\n",
    "#test data:75%\n",
    "test = by_date.iloc[:int(by_date.shape[0]*0.20)]\n",
    "\n",
    "X_train = np.array(train['Days']).reshape(-1,1)\n",
    "Y_train= np.array(train['Confirmed']).reshape(-1,1)\n",
    "\n",
    "X_test = np.array(test['Days']).reshape(-1,1)\n",
    "Y_test = np.array(test['Days']).reshape(-1,1)"
   ]
  },
  {
   "cell_type": "code",
   "execution_count": 47,
   "id": "a652c6b9",
   "metadata": {},
   "outputs": [
    {
     "data": {
      "text/plain": [
       "(68, 5)"
      ]
     },
     "execution_count": 47,
     "metadata": {},
     "output_type": "execute_result"
    }
   ],
   "source": [
    "train.shape"
   ]
  },
  {
   "cell_type": "code",
   "execution_count": 44,
   "id": "aaa5905d",
   "metadata": {},
   "outputs": [],
   "source": [
    "#LINEAR REGRESSION\n",
    "#fitting\n",
    "reg = LinearRegression()\n",
    "reg.fit(X_train,Y_train)\n",
    "\n",
    "reg_pred = reg.predict(np.array(train['Days'].max()+i).reshape(-1,1))"
   ]
  },
  {
   "cell_type": "code",
   "execution_count": 45,
   "id": "3559b37d",
   "metadata": {},
   "outputs": [
    {
     "name": "stderr",
     "output_type": "stream",
     "text": [
      "C:\\Users\\hp\\anaconda3\\lib\\site-packages\\sklearn\\utils\\validation.py:993: DataConversionWarning: A column-vector y was passed when a 1d array was expected. Please change the shape of y to (n_samples, ), for example using ravel().\n",
      "  y = column_or_1d(y, warn=True)\n"
     ]
    }
   ],
   "source": [
    "#Support Vector Regression\n",
    "svm = SVR()\n",
    "svm.fit(X_train,Y_train) \n",
    "\n",
    "svm_pred = svm.predict(np.array(train['Days'].max()+i).reshape(-1,1))"
   ]
  },
  {
   "cell_type": "code",
   "execution_count": 48,
   "id": "521c85a9",
   "metadata": {},
   "outputs": [],
   "source": [
    "start_date = by_date.index[0]\n",
    "new_date = []\n",
    "new_reg_pred = []\n",
    "new_svm_pred = []\n",
    "for i in range(0,68):\n",
    "    new_date.append(start_date+timedelta(days=i))\n",
    "    new_reg_pred.append(reg.predict(np.array(train['Days'].max()+i).reshape(-1,1))[0][0])\n",
    "    new_svm_pred.append(svm.predict(np.array(train['Days'].max()+i).reshape(-1,1))[0])\n",
    "pd.set_option('display.float_format',lambda x:'%.f'%x)\n",
    "predictions=pd.DataFrame(zip(new_date,new_reg_pred,new_svm_pred),columns = ['Dates','Linear Regression','SVR'])\n"
   ]
  },
  {
   "cell_type": "code",
   "execution_count": 49,
   "id": "45219b9a",
   "metadata": {},
   "outputs": [],
   "source": [
    "Y_pred = predictions['Linear Regression']"
   ]
  },
  {
   "cell_type": "code",
   "execution_count": 50,
   "id": "39301d60",
   "metadata": {},
   "outputs": [
    {
     "data": {
      "text/plain": [
       "(68,)"
      ]
     },
     "execution_count": 50,
     "metadata": {},
     "output_type": "execute_result"
    }
   ],
   "source": [
    "Y_pred.shape"
   ]
  },
  {
   "cell_type": "code",
   "execution_count": 51,
   "id": "9baed9be",
   "metadata": {},
   "outputs": [
    {
     "data": {
      "text/plain": [
       "(68, 1)"
      ]
     },
     "execution_count": 51,
     "metadata": {},
     "output_type": "execute_result"
    }
   ],
   "source": [
    "Y_train.shape"
   ]
  },
  {
   "cell_type": "code",
   "execution_count": 52,
   "id": "c1efa7e2",
   "metadata": {},
   "outputs": [
    {
     "data": {
      "text/plain": [
       "198597251751.52856"
      ]
     },
     "execution_count": 52,
     "metadata": {},
     "output_type": "execute_result"
    }
   ],
   "source": [
    "from sklearn.metrics import mean_squared_error\n",
    "mean_squared_error(Y_train, Y_pred)"
   ]
  },
  {
   "cell_type": "code",
   "execution_count": 53,
   "id": "edc37267",
   "metadata": {},
   "outputs": [
    {
     "data": {
      "text/plain": [
       "-6.842469129157009"
      ]
     },
     "execution_count": 53,
     "metadata": {},
     "output_type": "execute_result"
    }
   ],
   "source": [
    "from sklearn.metrics import r2_score\n",
    "r2_score(Y_train, Y_pred)"
   ]
  },
  {
   "cell_type": "code",
   "execution_count": 54,
   "id": "c93bc4e1",
   "metadata": {},
   "outputs": [
    {
     "data": {
      "text/html": [
       "<div>\n",
       "<style scoped>\n",
       "    .dataframe tbody tr th:only-of-type {\n",
       "        vertical-align: middle;\n",
       "    }\n",
       "\n",
       "    .dataframe tbody tr th {\n",
       "        vertical-align: top;\n",
       "    }\n",
       "\n",
       "    .dataframe thead th {\n",
       "        text-align: right;\n",
       "    }\n",
       "</style>\n",
       "<table border=\"1\" class=\"dataframe\">\n",
       "  <thead>\n",
       "    <tr style=\"text-align: right;\">\n",
       "      <th></th>\n",
       "      <th>Dates</th>\n",
       "      <th>Linear Regression</th>\n",
       "      <th>SVR</th>\n",
       "    </tr>\n",
       "  </thead>\n",
       "  <tbody>\n",
       "    <tr>\n",
       "      <th>0</th>\n",
       "      <td>2020-01-22</td>\n",
       "      <td>349525</td>\n",
       "      <td>80010</td>\n",
       "    </tr>\n",
       "    <tr>\n",
       "      <th>1</th>\n",
       "      <td>2020-01-23</td>\n",
       "      <td>356022</td>\n",
       "      <td>80009</td>\n",
       "    </tr>\n",
       "    <tr>\n",
       "      <th>2</th>\n",
       "      <td>2020-01-24</td>\n",
       "      <td>362520</td>\n",
       "      <td>80008</td>\n",
       "    </tr>\n",
       "    <tr>\n",
       "      <th>3</th>\n",
       "      <td>2020-01-25</td>\n",
       "      <td>369018</td>\n",
       "      <td>80007</td>\n",
       "    </tr>\n",
       "    <tr>\n",
       "      <th>4</th>\n",
       "      <td>2020-01-26</td>\n",
       "      <td>375516</td>\n",
       "      <td>80006</td>\n",
       "    </tr>\n",
       "    <tr>\n",
       "      <th>...</th>\n",
       "      <td>...</td>\n",
       "      <td>...</td>\n",
       "      <td>...</td>\n",
       "    </tr>\n",
       "    <tr>\n",
       "      <th>63</th>\n",
       "      <td>2020-03-25</td>\n",
       "      <td>758895</td>\n",
       "      <td>79993</td>\n",
       "    </tr>\n",
       "    <tr>\n",
       "      <th>64</th>\n",
       "      <td>2020-03-26</td>\n",
       "      <td>765393</td>\n",
       "      <td>79993</td>\n",
       "    </tr>\n",
       "    <tr>\n",
       "      <th>65</th>\n",
       "      <td>2020-03-27</td>\n",
       "      <td>771891</td>\n",
       "      <td>79993</td>\n",
       "    </tr>\n",
       "    <tr>\n",
       "      <th>66</th>\n",
       "      <td>2020-03-28</td>\n",
       "      <td>778389</td>\n",
       "      <td>79993</td>\n",
       "    </tr>\n",
       "    <tr>\n",
       "      <th>67</th>\n",
       "      <td>2020-03-29</td>\n",
       "      <td>784887</td>\n",
       "      <td>79993</td>\n",
       "    </tr>\n",
       "  </tbody>\n",
       "</table>\n",
       "<p>68 rows × 3 columns</p>\n",
       "</div>"
      ],
      "text/plain": [
       "        Dates  Linear Regression   SVR\n",
       "0  2020-01-22             349525 80010\n",
       "1  2020-01-23             356022 80009\n",
       "2  2020-01-24             362520 80008\n",
       "3  2020-01-25             369018 80007\n",
       "4  2020-01-26             375516 80006\n",
       "..        ...                ...   ...\n",
       "63 2020-03-25             758895 79993\n",
       "64 2020-03-26             765393 79993\n",
       "65 2020-03-27             771891 79993\n",
       "66 2020-03-28             778389 79993\n",
       "67 2020-03-29             784887 79993\n",
       "\n",
       "[68 rows x 3 columns]"
      ]
     },
     "execution_count": 54,
     "metadata": {},
     "output_type": "execute_result"
    }
   ],
   "source": [
    "predictions"
   ]
  },
  {
   "cell_type": "code",
   "execution_count": 55,
   "id": "56ceb7fb",
   "metadata": {},
   "outputs": [
    {
     "data": {
      "text/html": [
       "<div>\n",
       "<style scoped>\n",
       "    .dataframe tbody tr th:only-of-type {\n",
       "        vertical-align: middle;\n",
       "    }\n",
       "\n",
       "    .dataframe tbody tr th {\n",
       "        vertical-align: top;\n",
       "    }\n",
       "\n",
       "    .dataframe thead th {\n",
       "        text-align: right;\n",
       "    }\n",
       "</style>\n",
       "<table border=\"1\" class=\"dataframe\">\n",
       "  <thead>\n",
       "    <tr style=\"text-align: right;\">\n",
       "      <th></th>\n",
       "      <th>Confirmed</th>\n",
       "      <th>Recovered</th>\n",
       "      <th>Deaths</th>\n",
       "      <th>WeekofYear</th>\n",
       "      <th>Days</th>\n",
       "    </tr>\n",
       "    <tr>\n",
       "      <th>ObservationDate</th>\n",
       "      <th></th>\n",
       "      <th></th>\n",
       "      <th></th>\n",
       "      <th></th>\n",
       "      <th></th>\n",
       "    </tr>\n",
       "  </thead>\n",
       "  <tbody>\n",
       "    <tr>\n",
       "      <th>2020-01-22</th>\n",
       "      <td>555</td>\n",
       "      <td>28</td>\n",
       "      <td>17</td>\n",
       "      <td>4</td>\n",
       "      <td>0</td>\n",
       "    </tr>\n",
       "    <tr>\n",
       "      <th>2020-01-23</th>\n",
       "      <td>653</td>\n",
       "      <td>30</td>\n",
       "      <td>18</td>\n",
       "      <td>4</td>\n",
       "      <td>1</td>\n",
       "    </tr>\n",
       "    <tr>\n",
       "      <th>2020-01-24</th>\n",
       "      <td>941</td>\n",
       "      <td>36</td>\n",
       "      <td>26</td>\n",
       "      <td>4</td>\n",
       "      <td>2</td>\n",
       "    </tr>\n",
       "    <tr>\n",
       "      <th>2020-01-25</th>\n",
       "      <td>1438</td>\n",
       "      <td>39</td>\n",
       "      <td>42</td>\n",
       "      <td>4</td>\n",
       "      <td>3</td>\n",
       "    </tr>\n",
       "    <tr>\n",
       "      <th>2020-01-26</th>\n",
       "      <td>2118</td>\n",
       "      <td>52</td>\n",
       "      <td>56</td>\n",
       "      <td>4</td>\n",
       "      <td>4</td>\n",
       "    </tr>\n",
       "    <tr>\n",
       "      <th>...</th>\n",
       "      <td>...</td>\n",
       "      <td>...</td>\n",
       "      <td>...</td>\n",
       "      <td>...</td>\n",
       "      <td>...</td>\n",
       "    </tr>\n",
       "    <tr>\n",
       "      <th>2020-04-12</th>\n",
       "      <td>1846680</td>\n",
       "      <td>421722</td>\n",
       "      <td>114089</td>\n",
       "      <td>15</td>\n",
       "      <td>81</td>\n",
       "    </tr>\n",
       "    <tr>\n",
       "      <th>2020-04-13</th>\n",
       "      <td>1917320</td>\n",
       "      <td>448655</td>\n",
       "      <td>119482</td>\n",
       "      <td>16</td>\n",
       "      <td>82</td>\n",
       "    </tr>\n",
       "    <tr>\n",
       "      <th>2020-04-14</th>\n",
       "      <td>1976192</td>\n",
       "      <td>474261</td>\n",
       "      <td>125984</td>\n",
       "      <td>16</td>\n",
       "      <td>83</td>\n",
       "    </tr>\n",
       "    <tr>\n",
       "      <th>2020-04-15</th>\n",
       "      <td>2056055</td>\n",
       "      <td>511019</td>\n",
       "      <td>134177</td>\n",
       "      <td>16</td>\n",
       "      <td>84</td>\n",
       "    </tr>\n",
       "    <tr>\n",
       "      <th>2020-04-16</th>\n",
       "      <td>2152647</td>\n",
       "      <td>542107</td>\n",
       "      <td>143801</td>\n",
       "      <td>16</td>\n",
       "      <td>85</td>\n",
       "    </tr>\n",
       "  </tbody>\n",
       "</table>\n",
       "<p>86 rows × 5 columns</p>\n",
       "</div>"
      ],
      "text/plain": [
       "                 Confirmed  Recovered  Deaths  WeekofYear  Days\n",
       "ObservationDate                                                \n",
       "2020-01-22             555         28      17           4     0\n",
       "2020-01-23             653         30      18           4     1\n",
       "2020-01-24             941         36      26           4     2\n",
       "2020-01-25            1438         39      42           4     3\n",
       "2020-01-26            2118         52      56           4     4\n",
       "...                    ...        ...     ...         ...   ...\n",
       "2020-04-12         1846680     421722  114089          15    81\n",
       "2020-04-13         1917320     448655  119482          16    82\n",
       "2020-04-14         1976192     474261  125984          16    83\n",
       "2020-04-15         2056055     511019  134177          16    84\n",
       "2020-04-16         2152647     542107  143801          16    85\n",
       "\n",
       "[86 rows x 5 columns]"
      ]
     },
     "execution_count": 55,
     "metadata": {},
     "output_type": "execute_result"
    }
   ],
   "source": [
    "by_date"
   ]
  },
  {
   "cell_type": "markdown",
   "id": "33659506",
   "metadata": {},
   "source": [
    "FORECASTING"
   ]
  },
  {
   "cell_type": "code",
   "execution_count": 118,
   "id": "6ede084c",
   "metadata": {},
   "outputs": [],
   "source": [
    "#splitting data\n",
    "model_train = by_date.iloc[:int(by_date.shape[0]*0.85)]\n",
    "model_test = by_date.iloc[int(by_date.shape[0]*0.85):]"
   ]
  },
  {
   "cell_type": "code",
   "execution_count": 137,
   "id": "5482c55f",
   "metadata": {},
   "outputs": [
    {
     "data": {
      "text/plain": [
       "(53, 5)"
      ]
     },
     "execution_count": 137,
     "metadata": {},
     "output_type": "execute_result"
    }
   ],
   "source": [
    "model_train.shape"
   ]
  },
  {
   "cell_type": "code",
   "execution_count": 138,
   "id": "e3f2eb13",
   "metadata": {},
   "outputs": [
    {
     "data": {
      "text/plain": [
       "(10, 5)"
      ]
     },
     "execution_count": 138,
     "metadata": {},
     "output_type": "execute_result"
    }
   ],
   "source": [
    "model_test.shape"
   ]
  },
  {
   "cell_type": "code",
   "execution_count": 128,
   "id": "fee1f40a",
   "metadata": {},
   "outputs": [
    {
     "name": "stderr",
     "output_type": "stream",
     "text": [
      "C:\\Users\\hp\\AppData\\Local\\Temp\\ipykernel_11048\\3200155342.py:2: FutureWarning: the 'smoothing_slope'' keyword is deprecated, use 'smoothing_trend' instead.\n",
      "  holt = Holt(np.asarray(model_train['Confirmed'])).fit(smoothing_level=1.4,smoothing_slope=0.2)\n"
     ]
    }
   ],
   "source": [
    "#fitting\n",
    "holt = Holt(np.asarray(model_train['Confirmed'])).fit(smoothing_level=1.4,smoothing_slope=0.2)\n",
    "y_pred = model_test.copy()\n",
    "y_pred['Holt'] = holt.forecast(len(model_test))"
   ]
  },
  {
   "cell_type": "code",
   "execution_count": 136,
   "id": "63131c0b",
   "metadata": {},
   "outputs": [
    {
     "data": {
      "text/html": [
       "<div>\n",
       "<style scoped>\n",
       "    .dataframe tbody tr th:only-of-type {\n",
       "        vertical-align: middle;\n",
       "    }\n",
       "\n",
       "    .dataframe tbody tr th {\n",
       "        vertical-align: top;\n",
       "    }\n",
       "\n",
       "    .dataframe thead th {\n",
       "        text-align: right;\n",
       "    }\n",
       "</style>\n",
       "<table border=\"1\" class=\"dataframe\">\n",
       "  <thead>\n",
       "    <tr style=\"text-align: right;\">\n",
       "      <th></th>\n",
       "      <th>Dates</th>\n",
       "      <th>Linear Regression</th>\n",
       "      <th>SVR</th>\n",
       "      <th>Holts Linear Model Prediction</th>\n",
       "    </tr>\n",
       "  </thead>\n",
       "  <tbody>\n",
       "    <tr>\n",
       "      <th>0</th>\n",
       "      <td>2020-01-22</td>\n",
       "      <td>2635</td>\n",
       "      <td>1191</td>\n",
       "      <td>224339</td>\n",
       "    </tr>\n",
       "    <tr>\n",
       "      <th>1</th>\n",
       "      <td>2020-01-23</td>\n",
       "      <td>3114</td>\n",
       "      <td>1191</td>\n",
       "      <td>231265</td>\n",
       "    </tr>\n",
       "    <tr>\n",
       "      <th>2</th>\n",
       "      <td>2020-01-24</td>\n",
       "      <td>3592</td>\n",
       "      <td>1190</td>\n",
       "      <td>238192</td>\n",
       "    </tr>\n",
       "    <tr>\n",
       "      <th>3</th>\n",
       "      <td>2020-01-25</td>\n",
       "      <td>4071</td>\n",
       "      <td>1190</td>\n",
       "      <td>245118</td>\n",
       "    </tr>\n",
       "    <tr>\n",
       "      <th>4</th>\n",
       "      <td>2020-01-26</td>\n",
       "      <td>4550</td>\n",
       "      <td>1190</td>\n",
       "      <td>252044</td>\n",
       "    </tr>\n",
       "  </tbody>\n",
       "</table>\n",
       "</div>"
      ],
      "text/plain": [
       "       Dates  Linear Regression  SVR  Holts Linear Model Prediction\n",
       "0 2020-01-22               2635 1191                         224339\n",
       "1 2020-01-23               3114 1191                         231265\n",
       "2 2020-01-24               3592 1190                         238192\n",
       "3 2020-01-25               4071 1190                         245118\n",
       "4 2020-01-26               4550 1190                         252044"
      ]
     },
     "execution_count": 136,
     "metadata": {},
     "output_type": "execute_result"
    }
   ],
   "source": [
    "holt_start_date = by_date.index[0]\n",
    "holt_new_date = []\n",
    "holt_pred = []\n",
    "\n",
    "for i in range(0,6):\n",
    "    holt_new_date.append(holt_start_date+timedelta(days=i))\n",
    "    holt_pred.append(holt.forecast((len(model_test)+i))[-1])\n",
    "predictions['Holts Linear Model Prediction'] = holt_pred\n",
    "predictions.head()"
   ]
  },
  {
   "cell_type": "code",
   "execution_count": null,
   "id": "d739bc28",
   "metadata": {},
   "outputs": [],
   "source": []
  },
  {
   "cell_type": "code",
   "execution_count": null,
   "id": "8b2be78a",
   "metadata": {},
   "outputs": [],
   "source": []
  }
 ],
 "metadata": {
  "kernelspec": {
   "display_name": "Python 3 (ipykernel)",
   "language": "python",
   "name": "python3"
  },
  "language_info": {
   "codemirror_mode": {
    "name": "ipython",
    "version": 3
   },
   "file_extension": ".py",
   "mimetype": "text/x-python",
   "name": "python",
   "nbconvert_exporter": "python",
   "pygments_lexer": "ipython3",
   "version": "3.9.12"
  }
 },
 "nbformat": 4,
 "nbformat_minor": 5
}
